{
  "nbformat": 4,
  "nbformat_minor": 0,
  "metadata": {
    "colab": {
      "name": "SplitNN_Cifar10_Resnet.ipynb",
      "provenance": [],
      "authorship_tag": "ABX9TyMDkaFkXk0EwKxpaOu7TCjD",
      "include_colab_link": true
    },
    "kernelspec": {
      "name": "python3",
      "display_name": "Python 3"
    },
    "accelerator": "GPU"
  },
  "cells": [
    {
      "cell_type": "markdown",
      "metadata": {
        "id": "view-in-github",
        "colab_type": "text"
      },
      "source": [
        "<a href=\"https://colab.research.google.com/github/snpushpi/Differential-Privacy-in-Split-Learning/blob/main/SplitNN_Cifar10_Resnet.ipynb\" target=\"_parent\"><img src=\"https://colab.research.google.com/assets/colab-badge.svg\" alt=\"Open In Colab\"/></a>"
      ]
    },
    {
      "cell_type": "code",
      "metadata": {
        "id": "rS1pNGsoQxVV"
      },
      "source": [
        "'''ResNet in PyTorch.\n",
        "For Pre-activation ResNet, see 'preact_resnet.py'.\n",
        "Reference:\n",
        "[1] Kaiming He, Xiangyu Zhang, Shaoqing Ren, Jian Sun\n",
        "    Deep Residual Learning for Image Recognition. arXiv:1512.03385\n",
        "'''\n",
        "import torch\n",
        "import torch.nn as nn\n",
        "import torch.nn.functional as F\n",
        "\n",
        "\n",
        "class BasicBlock(nn.Module):\n",
        "    expansion = 1\n",
        "\n",
        "    def __init__(self, in_planes, planes, stride=1):\n",
        "        super(BasicBlock, self).__init__()\n",
        "        self.conv1 = nn.Conv2d(\n",
        "            in_planes, planes, kernel_size=3, stride=stride, padding=1, bias=False)\n",
        "        self.bn1 = nn.BatchNorm2d(planes)\n",
        "        self.conv2 = nn.Conv2d(planes, planes, kernel_size=3,\n",
        "                               stride=1, padding=1, bias=False)\n",
        "        self.bn2 = nn.BatchNorm2d(planes)\n",
        "\n",
        "        self.shortcut = nn.Sequential()\n",
        "        if stride != 1 or in_planes != self.expansion*planes:\n",
        "            self.shortcut = nn.Sequential(\n",
        "                nn.Conv2d(in_planes, self.expansion*planes,\n",
        "                          kernel_size=1, stride=stride, bias=False),\n",
        "                nn.BatchNorm2d(self.expansion*planes)\n",
        "            )\n",
        "\n",
        "    def forward(self, x):\n",
        "        out = F.relu(self.bn1(self.conv1(x)))\n",
        "        out = self.bn2(self.conv2(out))\n",
        "        out += self.shortcut(x)\n",
        "        out = F.relu(out)\n",
        "        return out\n",
        "\n",
        "\n",
        "class Bottleneck(nn.Module):\n",
        "    expansion = 4\n",
        "\n",
        "    def __init__(self, in_planes, planes, stride=1):\n",
        "        super(Bottleneck, self).__init__()\n",
        "        self.conv1 = nn.Conv2d(in_planes, planes, kernel_size=1, bias=False)\n",
        "        self.bn1 = nn.BatchNorm2d(planes)\n",
        "        self.conv2 = nn.Conv2d(planes, planes, kernel_size=3,\n",
        "                               stride=stride, padding=1, bias=False)\n",
        "        self.bn2 = nn.BatchNorm2d(planes)\n",
        "        self.conv3 = nn.Conv2d(planes, self.expansion *\n",
        "                               planes, kernel_size=1, bias=False)\n",
        "        self.bn3 = nn.BatchNorm2d(self.expansion*planes)\n",
        "\n",
        "        self.shortcut = nn.Sequential()\n",
        "        if stride != 1 or in_planes != self.expansion*planes:\n",
        "            self.shortcut = nn.Sequential(\n",
        "                nn.Conv2d(in_planes, self.expansion*planes,\n",
        "                          kernel_size=1, stride=stride, bias=False),\n",
        "                nn.BatchNorm2d(self.expansion*planes)\n",
        "            )\n",
        "\n",
        "    def forward(self, x):\n",
        "        out = F.relu(self.bn1(self.conv1(x)))\n",
        "        out = F.relu(self.bn2(self.conv2(out)))\n",
        "        out = self.bn3(self.conv3(out))\n",
        "        out += self.shortcut(x)\n",
        "        out = F.relu(out)\n",
        "        return out\n",
        "\n",
        "\n",
        "class ResNet(nn.Module):\n",
        "    def __init__(self, block, num_blocks, num_classes=10):\n",
        "        super(ResNet, self).__init__()\n",
        "        self.in_planes = 64\n",
        "\n",
        "        self.conv1 = nn.Conv2d(3, 64, kernel_size=3,\n",
        "                               stride=1, padding=1, bias=False)\n",
        "        self.bn1 = nn.BatchNorm2d(64)\n",
        "        self.layer1 = self._make_layer(block, 64, num_blocks[0], stride=1)\n",
        "        self.layer2 = self._make_layer(block, 128, num_blocks[1], stride=2)\n",
        "        self.layer3 = self._make_layer(block, 256, num_blocks[2], stride=2)\n",
        "        self.layer4 = self._make_layer(block, 512, num_blocks[3], stride=2)\n",
        "        self.linear = nn.Linear(512*block.expansion, num_classes)\n",
        "        \n",
        "    def _make_layer(self, block, planes, num_blocks, stride):\n",
        "        strides = [stride] + [1]*(num_blocks-1)\n",
        "        layers = []\n",
        "        for stride in strides:\n",
        "            layers.append(block(self.in_planes, planes, stride))\n",
        "            self.in_planes = planes * block.expansion\n",
        "        return nn.Sequential(*layers)\n",
        "\n",
        "    def forward(self, x):\n",
        "        out = F.relu(self.bn1(self.conv1(x)))\n",
        "        out = self.layer1(out)\n",
        "        out = self.layer2(out)\n",
        "        out = self.layer3(out)\n",
        "        out = self.layer4(out)\n",
        "        out = F.avg_pool2d(out, 4)\n",
        "        out = out.view(out.size(0), -1)\n",
        "        return out\n",
        "\n",
        "\n",
        "def ResNet18():\n",
        "    return ResNet(BasicBlock, [2, 2, 2, 2])\n",
        "\n",
        "\n",
        "def ResNet34():\n",
        "    return ResNet(BasicBlock, [3, 4, 6, 3])\n",
        "\n",
        "\n",
        "def ResNet50():\n",
        "    return ResNet(Bottleneck, [3, 4, 6, 3])\n",
        "\n",
        "\n",
        "def ResNet101():\n",
        "    return ResNet(Bottleneck, [3, 4, 23, 3])\n",
        "\n",
        "\n",
        "def ResNet152():\n",
        "    return ResNet(Bottleneck, [3, 8, 36, 3])\n",
        "\n",
        "\n",
        "def test():\n",
        "    net = ResNet18()\n",
        "    y = net(torch.randn(1, 3, 32, 32))\n",
        "    print(y.size())\n",
        "\n",
        "# test()"
      ],
      "execution_count": 26,
      "outputs": []
    },
    {
      "cell_type": "code",
      "metadata": {
        "id": "UKlq7kYjQsdz"
      },
      "source": [
        "classes = ('plane', 'car', 'bird', 'cat', 'deer',\n",
        "           'dog', 'frog', 'horse', 'ship', 'truck')\n"
      ],
      "execution_count": 27,
      "outputs": []
    },
    {
      "cell_type": "code",
      "metadata": {
        "id": "Az7kdxGDQulP"
      },
      "source": [
        "num_classes = len(classes)"
      ],
      "execution_count": 28,
      "outputs": []
    },
    {
      "cell_type": "code",
      "metadata": {
        "colab": {
          "base_uri": "https://localhost:8080/"
        },
        "id": "PGwnqpFYQ417",
        "outputId": "317e4518-d302-4665-8a00-54b15b1e4a88"
      },
      "source": [
        "'''Train CIFAR10 with PyTorch.'''\n",
        "import torch\n",
        "import torch.nn as nn\n",
        "import torch.optim as optim\n",
        "import torch.nn.functional as F\n",
        "import torch.backends.cudnn as cudnn\n",
        "\n",
        "import torchvision\n",
        "import torchvision.transforms as transforms\n",
        "\n",
        "import os\n",
        "import copy\n",
        "\n",
        "device = torch.device(\"cuda:0\" if torch.cuda.is_available() else \"cpu\")\n",
        "if torch.cuda.is_available():\n",
        "  print(f'GPU: {torch.cuda.current_device()}, {torch.cuda.device_count()}, {torch.cuda.get_device_name(0)}, {torch.cuda.is_available()}')\n",
        "else: print(f'Device: cpu')\n"
      ],
      "execution_count": 29,
      "outputs": [
        {
          "output_type": "stream",
          "text": [
            "GPU: 0, 1, Tesla T4, True\n"
          ],
          "name": "stdout"
        }
      ]
    },
    {
      "cell_type": "code",
      "metadata": {
        "colab": {
          "base_uri": "https://localhost:8080/"
        },
        "id": "Dnu0-cQHZC4k",
        "outputId": "834cda79-cc24-47a0-f599-ed5894a7bbf8"
      },
      "source": [
        "print('==> Preparing data..')\n",
        "transform_train = transforms.Compose([\n",
        "    transforms.RandomCrop(32, padding=4),\n",
        "    transforms.RandomHorizontalFlip(),\n",
        "    transforms.ToTensor(),\n",
        "    transforms.Normalize((0.4914, 0.4822, 0.4465), (0.2023, 0.1994, 0.2010)),\n",
        "])\n",
        "\n",
        "transform_test = transforms.Compose([\n",
        "    transforms.ToTensor(),\n",
        "    transforms.Normalize((0.4914, 0.4822, 0.4465), (0.2023, 0.1994, 0.2010)),\n",
        "])\n",
        "\n",
        "trainset = torchvision.datasets.CIFAR10(\n",
        "    root='./data', train=True, download=True, transform=transform_train)\n",
        "trainloader = torch.utils.data.DataLoader(\n",
        "    trainset, batch_size=128, shuffle=True, num_workers=2)\n",
        "\n",
        "testset = torchvision.datasets.CIFAR10(\n",
        "    root='./data', train=False, download=True, transform=transform_test)\n",
        "testloader = torch.utils.data.DataLoader(\n",
        "    testset, batch_size=100, shuffle=False, num_workers=2)\n",
        "\n",
        "classes = ('plane', 'car', 'bird', 'cat', 'deer',\n",
        "           'dog', 'frog', 'horse', 'ship', 'truck')\n",
        "\n",
        "from torch.utils.data.sampler import SubsetRandomSampler\n",
        "\n",
        "total_size = len(trainset)\n",
        "\n",
        "split1 = total_size // 4\n",
        "split2 = split1*2\n",
        "split3 = split1*3\n",
        "\n",
        "indices = list(range(total_size))\n",
        "\n",
        "alice_idx = indices[:split1]\n",
        "bob_idx = indices[split1:split2]\n",
        "mike_idx = indices[split2:split3]\n",
        "rose_idc = indices[split3:]\n",
        "\n",
        "alice_sampler = SubsetRandomSampler(alice_idx)\n",
        "bob_sampler = SubsetRandomSampler(bob_idx)\n",
        "mike_sampler = SubsetRandomSampler(mike_idx)\n",
        "rose_sampler = SubsetRandomSampler(rose_idc)\n",
        "\n",
        "\n",
        "alice_loader = torch.utils.data.DataLoader(trainset, batch_size=128, sampler=alice_sampler)\n",
        "bob_loader = torch.utils.data.DataLoader(trainset, batch_size=128, sampler=bob_sampler)\n",
        "mike_loader = torch.utils.data.DataLoader(trainset, batch_size=128, sampler=mike_sampler)\n",
        "rose_loader = torch.utils.data.DataLoader(trainset, batch_size=128, sampler=rose_sampler)\n",
        "\n",
        "data_loaders = [alice_loader, bob_loader, mike_loader, rose_loader ]\n",
        "\n",
        "print(f'Data at alice: {len(alice_sampler)} \\t Batches: {len(alice_loader)}')\n",
        "print(f'Data at bob: {len(bob_sampler)} \\t Batches: {len(alice_loader)}')\n",
        "print(f'Data at mike: {len(mike_sampler)} \\t Batches: {len(mike_loader)}')\n",
        "print(f'Data at rose: {len(rose_sampler)} \\t Batches: {len(rose_loader)}')"
      ],
      "execution_count": 30,
      "outputs": [
        {
          "output_type": "stream",
          "text": [
            "==> Preparing data..\n",
            "Files already downloaded and verified\n",
            "Files already downloaded and verified\n",
            "Data at alice: 12500 \t Batches: 98\n",
            "Data at bob: 12500 \t Batches: 98\n",
            "Data at mike: 12500 \t Batches: 98\n",
            "Data at rose: 12500 \t Batches: 98\n"
          ],
          "name": "stdout"
        }
      ]
    },
    {
      "cell_type": "code",
      "metadata": {
        "colab": {
          "base_uri": "https://localhost:8080/"
        },
        "id": "1YWXm5vJmRi4",
        "outputId": "9ed47ade-cdd7-4da8-994e-2d0ec3762264"
      },
      "source": [
        "# Model\n",
        "print('==> Building model..')\n",
        "# net = VGG('VGG19')\n",
        "# net = ResNet18()\n",
        "# net = PreActResNet18()\n",
        "# net = GoogLeNet()\n",
        "# net = DenseNet121()\n",
        "# net = ResNeXt29_2x64d()\n",
        "# net = MobileNet()\n",
        "# net = MobileNetV2()\n",
        "# net = DPN92()\n",
        "# net = ShuffleNetG2()\n",
        "# net = SENet18()\n",
        "# net = ShuffleNetV2(1)\n",
        "# net = EfficientNetB0()\n",
        "# net = RegNetX_200MF()\n",
        "client_net = ResNet18()\n",
        "client_net = client_net.to(device)\n",
        "alice_net = copy.deepcopy(client_net)\n",
        "bob_net = copy.deepcopy(client_net)\n",
        "mike_net = copy.deepcopy(client_net)\n",
        "rose_net = copy.deepcopy(client_net)\n",
        "server_net = nn.Linear(512, num_classes)\n",
        "server_net = server_net.to(device)\n",
        "        "
      ],
      "execution_count": 39,
      "outputs": [
        {
          "output_type": "stream",
          "text": [
            "==> Building model..\n"
          ],
          "name": "stdout"
        }
      ]
    },
    {
      "cell_type": "code",
      "metadata": {
        "id": "JV2_OkcKTyeC"
      },
      "source": [
        "nets = [alice_net, bob_net, mike_net, rose_net]"
      ],
      "execution_count": 32,
      "outputs": []
    },
    {
      "cell_type": "code",
      "metadata": {
        "id": "cz0TEZmDTqtV"
      },
      "source": [
        "optimizers = [optim.SGD(net.parameters(), lr=args.lr,\n",
        "                      momentum=0.9, weight_decay=5e-4) for net in nets]"
      ],
      "execution_count": 33,
      "outputs": []
    },
    {
      "cell_type": "code",
      "metadata": {
        "id": "XMEr8pXYUFbl"
      },
      "source": [
        "server_optimizer = optim.SGD(server_net.parameters(), lr=args.lr,\n",
        "                      momentum=0.9, weight_decay=5e-4)"
      ],
      "execution_count": 34,
      "outputs": []
    },
    {
      "cell_type": "code",
      "metadata": {
        "id": "K11H20-gUQim"
      },
      "source": [
        "server_loss = nn.CrossEntropyLoss()"
      ],
      "execution_count": 41,
      "outputs": []
    },
    {
      "cell_type": "code",
      "metadata": {
        "colab": {
          "base_uri": "https://localhost:8080/"
        },
        "id": "Sy6qzIb3y1nQ",
        "outputId": "7e51e164-19c8-411b-ed07-503d64dcb1de"
      },
      "source": [
        "epochs = 20\n",
        "for e in range(epochs):\n",
        "  running_loss = 0\n",
        "  for i in range(len(data_loaders[0])):\n",
        "    for opt in optimizers:\n",
        "      opt.zero_grad()\n",
        "    \n",
        "    server_optimizer.zero_grad()\n",
        "\n",
        "    lst_of_vars = []\n",
        "\n",
        "    for i in range(len(data_loaders)): \n",
        "      imgs, lbls = next(iter(data_loaders[i]))\n",
        "      imgs, lbls = imgs.to(device), lbls.to(device)\n",
        "      split_output = nets[i](imgs.float()) \n",
        "      split_layer_output = split_output.clone().detach().requires_grad_(True)\n",
        "      server_output = server_net(split_layer_output)\n",
        "      \n",
        "      loss = server_loss(server_output, lbls)\n",
        "\n",
        "      lst_of_vars.append({'split_output': split_output, 'split_layer_output': split_layer_output, 'loss':loss})\n",
        "\n",
        "    loss = 0  \n",
        "    for i in range(len(data_loaders)):\n",
        "      loss += lst_of_vars[i]['loss']\n",
        "\n",
        "    avg_loss = loss / len(data_loaders)\n",
        "    running_loss += avg_loss\n",
        "\n",
        "    avg_loss.backward()\n",
        "\n",
        "    for i in range(len(data_loaders)):\n",
        "      split_gradients = lst_of_vars[i]['split_layer_output'].grad.clone().detach()\n",
        "      lst_of_vars[i]['split_output'].backward(split_gradients)\n",
        "    \n",
        "    server_optimizer.step()\n",
        "    \n",
        "    for opt in optimizers:\n",
        "      opt.step()\n",
        "\n",
        "  print(\"Epoch {} - Training loss: {}\".format(e+1, running_loss/len(data_loaders[0])))\n"
      ],
      "execution_count": 42,
      "outputs": [
        {
          "output_type": "stream",
          "text": [
            "Epoch 1 - Training loss: 1.7476544380187988\n",
            "Epoch 2 - Training loss: 1.4216715097427368\n",
            "Epoch 3 - Training loss: 1.2468806505203247\n",
            "Epoch 4 - Training loss: 1.1071350574493408\n",
            "Epoch 5 - Training loss: 1.0013169050216675\n",
            "Epoch 6 - Training loss: 0.8944705128669739\n",
            "Epoch 7 - Training loss: 0.8200480341911316\n",
            "Epoch 8 - Training loss: 0.7573748826980591\n",
            "Epoch 9 - Training loss: 0.6992132067680359\n",
            "Epoch 10 - Training loss: 0.6631214022636414\n"
          ],
          "name": "stdout"
        }
      ]
    },
    {
      "cell_type": "code",
      "metadata": {
        "id": "T80hFanMhmh4"
      },
      "source": [
        "correct = 0\n",
        "total = 0\n",
        "with torch.no_grad():\n",
        "    for data in testloader:\n",
        "        images, labels = data \n",
        "        outputs = bob_net(images)\n",
        "        #outputs = test_transform(outputs)\n",
        "        outputs = server_net(outputs.float())\n",
        "\n",
        "        _, predicted = torch.max(outputs.data, 1)\n",
        "        total += labels.size(0)\n",
        "        correct += (predicted == labels).sum().item()\n",
        "\n",
        "print('Accuracy on the 10000 test images using SPLIT INFERENCE: %d %%' % (100 * correct / total))"
      ],
      "execution_count": null,
      "outputs": []
    }
  ]
}