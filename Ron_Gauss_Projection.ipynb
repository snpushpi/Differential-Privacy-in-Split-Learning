{
  "nbformat": 4,
  "nbformat_minor": 0,
  "metadata": {
    "colab": {
      "name": "Ron_Gauss_Projection.ipynb",
      "provenance": []
    },
    "kernelspec": {
      "name": "python3",
      "display_name": "Python 3"
    }
  },
  "cells": [
    {
      "cell_type": "code",
      "metadata": {
        "id": "eseQ2w_26Vp9"
      },
      "source": [
        "import numpy as np\n",
        "from sklearn.preprocessing import normalize\n",
        "import math\n"
      ],
      "execution_count": 8,
      "outputs": []
    },
    {
      "cell_type": "markdown",
      "metadata": {
        "id": "JBnbDB7nhrFP"
      },
      "source": [
        "**Non Interactive DP Data Release**"
      ]
    },
    {
      "cell_type": "markdown",
      "metadata": {
        "id": "vipOBHEi6Wf9"
      },
      "source": [
        "Data Pre Processing"
      ]
    },
    {
      "cell_type": "code",
      "metadata": {
        "id": "WxyFexBj6fum"
      },
      "source": [
        "def pre_processing(dataset,epsilon_mu):\n",
        "    '''Input Numpy Matrix of dimension (m,n) and privacy param epsion '''\n",
        "    pre_normalized_dataset = normalize(dataset,axis=0)\n",
        "    #deriving dp mean\n",
        "    avg = np.mean(pre_normalized_dataset,axis=1)\n",
        "    m,n = pre_normalized_dataset.shape\n",
        "    loc_param = 2*math.sqrt(m)/(n*epsilon_mu)\n",
        "    laplace_noise = np.random.laplace(0,loc=loc_param,(m,1))\n",
        "    mu_dp = avg+laplace_noise\n",
        "    #centerize the data\n",
        "    mat_1 = np.ones((1,n))\n",
        "    centralized_dataset = dataset - np.matmul(mu_dp,mat_1)\n",
        "    final_dataset = np.mean(centralized_dataset,axis=0)\n",
        "    return final_dataset,mu_dp\n"
      ],
      "execution_count": null,
      "outputs": []
    },
    {
      "cell_type": "markdown",
      "metadata": {
        "id": "ySUIKdDwOcCn"
      },
      "source": [
        "RON_Projection"
      ]
    },
    {
      "cell_type": "code",
      "metadata": {
        "id": "WygpfpEUOeQn"
      },
      "source": [
        "def ron_projection(pre_processed_dataset,p):\n",
        "    m,n = pre_processed_dataset.shape\n",
        "    A = np.random.uniform(0,1,(m,m))\n",
        "    Q,R = numpy.linalg.qr(a, mode='complete')\n",
        "    #constructing a Ron Projection Matrix\n",
        "    W = Q[:,:p]\n",
        "    projected_data = np.matmul(np.transpose(W),pre_processed_dataset)\n",
        "    return projected_data,W\n"
      ],
      "execution_count": null,
      "outputs": []
    },
    {
      "cell_type": "markdown",
      "metadata": {
        "id": "Q0JlB0h7TUF3"
      },
      "source": [
        "RON Gauss For Unsupervised Learning"
      ]
    },
    {
      "cell_type": "code",
      "metadata": {
        "id": "QRkzyXESTlCI"
      },
      "source": [
        "def ron_gauss_for_unsupervised(dataset,dimension_p,epsilon_mu,epsilon_sigma):\n",
        "    preprocessed_data = pre_processing(dataset,epsilon_mu)\n",
        "    ron_projected_data = ron_projection(preprocessed_data,dimension_p)\n",
        "    m,n = dataset.shape\n",
        "    loc_param = 2*math.sqrt(dimension_p)/(n*epsilon_sigma)\n",
        "    laplace_noise = np.random.laplace(0,loc=loc_param,(dimension_p,dimension_p))\n",
        "    dp_cov = (1/n)*np.matmul(ron_projected_data,np.transpose(ron_projected_data))+laplace_noise\n",
        "    synthesized_dp_data = np.random.multivariate_normal(0, dp_cov, size=(dimension_p,n))\n",
        "    return synthesized_dp_data"
      ],
      "execution_count": null,
      "outputs": []
    },
    {
      "cell_type": "markdown",
      "metadata": {
        "id": "JTVAYp-Xa31i"
      },
      "source": [
        "RON Gauss For Supervised Learning"
      ]
    },
    {
      "cell_type": "code",
      "metadata": {
        "id": "SfgNOE_5a6ZU"
      },
      "source": [
        "def ron_gauss_for_supervised(dataset,training_label,a,dimension_p,epsilon_mu,epsilon_sigma):\n",
        "    #label.shape = (n,1)\n",
        "    preprocessed_data = pre_processing(dataset,epsilon_mu)\n",
        "    ron_projected_data = ron_projection(preprocessed_data,dimension_p)\n",
        "    p,n = ron_projected_data.shape\n",
        "    augmented_ron = np.hstack((ron_projected_data,np.transpose(training_label)))\n",
        "    sqp = math.sqrt(p)\n",
        "    loc_param = (2*sqp+4*a*sqp+a*a)/(n*epsilon_sigma)\n",
        "    laplace_noise = np.random.laplace(0,loc=loc_param,(dimension_p+1,dimension_p+1))\n",
        "    dp_cov = (1/n)*np.matmul(augmented_ron,np.transpose(augmented_ron))+laplace_noise\n",
        "    synthesized_dp_data = np.random.multivariate_normal(0, dp_cov, size=(dimension_p+1,n))\n",
        "    return synthesized_dp_data\n"
      ],
      "execution_count": null,
      "outputs": []
    }
  ]
}