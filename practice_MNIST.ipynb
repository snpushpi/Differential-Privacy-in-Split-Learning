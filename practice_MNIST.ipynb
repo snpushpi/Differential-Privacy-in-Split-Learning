{
  "nbformat": 4,
  "nbformat_minor": 0,
  "metadata": {
    "colab": {
      "name": "practice_MNIST.ipynb",
      "provenance": [],
      "collapsed_sections": [],
      "authorship_tag": "ABX9TyMNTjfMWP/6r62yy/XMVskS",
      "include_colab_link": true
    },
    "kernelspec": {
      "name": "python3",
      "display_name": "Python 3"
    }
  },
  "cells": [
    {
      "cell_type": "markdown",
      "metadata": {
        "id": "view-in-github",
        "colab_type": "text"
      },
      "source": [
        "<a href=\"https://colab.research.google.com/github/snpushpi/Differential-Privacy-in-Split-Learning/blob/main/practice_MNIST.ipynb\" target=\"_parent\"><img src=\"https://colab.research.google.com/assets/colab-badge.svg\" alt=\"Open In Colab\"/></a>"
      ]
    },
    {
      "cell_type": "code",
      "metadata": {
        "id": "e9MK0ip1KwSa"
      },
      "source": [
        "import numpy as np\n",
        "import torch\n",
        "import torchvision\n",
        "import matplotlib.pyplot as plt\n",
        "from time import time\n",
        "from torchvision import datasets, transforms\n",
        "from torch import nn, optim"
      ],
      "execution_count": 36,
      "outputs": []
    },
    {
      "cell_type": "code",
      "metadata": {
        "id": "6FenE1hiK5Cu"
      },
      "source": [
        "transform = transforms.Compose([transforms.ToTensor(),\n",
        "                              transforms.Normalize((0.5,), (0.5,)),\n",
        "                              ])"
      ],
      "execution_count": 37,
      "outputs": []
    },
    {
      "cell_type": "code",
      "metadata": {
        "colab": {
          "base_uri": "https://localhost:8080/"
        },
        "id": "geHRix5_K9fN",
        "outputId": "0459a057-bc1e-4d99-ceb1-404311c425c2"
      },
      "source": [
        "trainset = datasets.MNIST('PATH_TO_STORE_TRAINSET', download=True, train=True, transform=transform)\n",
        "valset = datasets.MNIST('PATH_TO_STORE_TESTSET', download=True, train=False, transform=transform)\n",
        "trainloader = torch.utils.data.DataLoader(trainset, batch_size=64, shuffle=True)\n",
        "valloader = torch.utils.data.DataLoader(valset, batch_size=64, shuffle=True)\n",
        "from torch.utils.data.sampler import SubsetRandomSampler\n",
        "\n",
        "total_size = len(trainset)\n",
        "\n",
        "split1 = total_size // 4\n",
        "split2 = split1*2\n",
        "split3 = split1*3\n",
        "\n",
        "indices = list(range(total_size))\n",
        "\n",
        "alice_idx = indices[:split1]\n",
        "bob_idx = indices[split1:split2]\n",
        "mike_idx = indices[split2:split3]\n",
        "rose_idc = indices[split3:]\n",
        "\n",
        "alice_sampler = SubsetRandomSampler(alice_idx)\n",
        "bob_sampler = SubsetRandomSampler(bob_idx)\n",
        "mike_sampler = SubsetRandomSampler(mike_idx)\n",
        "rose_sampler = SubsetRandomSampler(rose_idc)\n",
        "\n",
        "\n",
        "alice_loader = torch.utils.data.DataLoader(trainset, batch_size=64, sampler=alice_sampler)\n",
        "bob_loader = torch.utils.data.DataLoader(trainset, batch_size=64, sampler=bob_sampler)\n",
        "mike_loader = torch.utils.data.DataLoader(trainset, batch_size=64, sampler=mike_sampler)\n",
        "rose_loader = torch.utils.data.DataLoader(trainset, batch_size=64, sampler=rose_sampler)\n",
        "\n",
        "data_loaders = [alice_loader, bob_loader, mike_loader, rose_loader ]\n",
        "\n",
        "print(f'Data at alice: {len(alice_sampler)} \\t Batches: {len(alice_loader)}')\n",
        "print(f'Data at bob: {len(bob_sampler)} \\t Batches: {len(alice_loader)}')\n",
        "print(f'Data at mike: {len(mike_sampler)} \\t Batches: {len(mike_loader)}')\n",
        "print(f'Data at rose: {len(rose_sampler)} \\t Batches: {len(rose_loader)}')"
      ],
      "execution_count": 38,
      "outputs": [
        {
          "output_type": "stream",
          "text": [
            "Data at alice: 15000 \t Batches: 235\n",
            "Data at bob: 15000 \t Batches: 235\n",
            "Data at mike: 15000 \t Batches: 235\n",
            "Data at rose: 15000 \t Batches: 235\n"
          ],
          "name": "stdout"
        }
      ]
    },
    {
      "cell_type": "code",
      "metadata": {
        "colab": {
          "base_uri": "https://localhost:8080/"
        },
        "id": "gc7CRVeTLFSV",
        "outputId": "b09f8754-f3b2-4312-9e16-8f6e14dec06e"
      },
      "source": [
        "dataiter = iter(trainloader)\n",
        "images, labels = dataiter.next()\n",
        "\n",
        "print(images.shape)\n",
        "print(labels.shape)"
      ],
      "execution_count": null,
      "outputs": [
        {
          "output_type": "stream",
          "text": [
            "torch.Size([64, 1, 28, 28])\n",
            "torch.Size([64])\n"
          ],
          "name": "stdout"
        }
      ]
    },
    {
      "cell_type": "code",
      "metadata": {
        "colab": {
          "base_uri": "https://localhost:8080/",
          "height": 282
        },
        "id": "tLrOTYm8LJPQ",
        "outputId": "7779d03e-18c2-450a-cd70-cf0f4dea8950"
      },
      "source": [
        "plt.imshow(images[0].numpy().squeeze(), cmap='gray_r')"
      ],
      "execution_count": null,
      "outputs": [
        {
          "output_type": "execute_result",
          "data": {
            "text/plain": [
              "<matplotlib.image.AxesImage at 0x7f471313db38>"
            ]
          },
          "metadata": {
            "tags": []
          },
          "execution_count": 18
        },
        {
          "output_type": "display_data",
          "data": {
            "image/png": "[encoded data removed]",
            "text/plain": [
              "<Figure size 432x288 with 1 Axes>"
            ]
          },
          "metadata": {
            "tags": [],
            "needs_background": "light"
          }
        }
      ]
    },
    {
      "cell_type": "code",
      "metadata": {
        "colab": {
          "base_uri": "https://localhost:8080/",
          "height": 246
        },
        "id": "wQ9RFDFRLO_p",
        "outputId": "d5080ead-a0c2-4407-b7b0-b9f119d6271f"
      },
      "source": [
        "figure = plt.figure()\n",
        "num_of_images = 60\n",
        "for index in range(1, num_of_images + 1):\n",
        "    plt.subplot(6, 10, index)\n",
        "    plt.axis('off')\n",
        "    plt.imshow(images[index].numpy().squeeze(), cmap='gray_r')"
      ],
      "execution_count": null,
      "outputs": [
        {
          "output_type": "display_data",
          "data": {
            "image/png": "[encoded data removed]",
            "text/plain": [
              "<Figure size 432x288 with 60 Axes>"
            ]
          },
          "metadata": {
            "tags": [],
            "needs_background": "light"
          }
        }
      ]
    },
    {
      "cell_type": "code",
      "metadata": {
        "id": "0nYwOC2KLT2l"
      },
      "source": [
        "input_size = 784\n",
        "hidden_sizes = [128, 64]\n",
        "output_size = 10\n",
        "import copy\n",
        "client_model = nn.Sequential(nn.Linear(input_size, hidden_sizes[0]),\n",
        "                      nn.ReLU(),\n",
        "                      nn.Linear(hidden_sizes[0], hidden_sizes[1]),\n",
        "                      nn.ReLU()\n",
        "                      )\n",
        "alice_model = copy.deepcopy(client_model)\n",
        "bob_model = copy.deepcopy(client_model)\n",
        "mike_model = copy.deepcopy(client_model)\n",
        "rose_model = copy.deepcopy(client_model)\n",
        "\n",
        "server_model = nn.Sequential(\n",
        "  nn.Linear(hidden_sizes[1], output_size),\n",
        "  nn.LogSoftmax(dim=1)\n",
        ")\n",
        "models = [alice_model, bob_model, mike_model, rose_model]\n",
        "\n",
        "# Create optimizers for each model\n",
        "#optimizers = [optim.Adam(model.parameters(), lr=0.01) for model in models]"
      ],
      "execution_count": 39,
      "outputs": []
    },
    {
      "cell_type": "code",
      "metadata": {
        "id": "2_3BT-MOLj4f"
      },
      "source": [
        "criterion = nn.NLLLoss()\n",
        "images, labels = next(iter(trainloader))\n",
        "images = images.view(images.shape[0], -1)\n",
        "\n",
        "logps = model(images) #log probabilities\n",
        "loss = criterion(logps, labels) #calculate the NLL loss"
      ],
      "execution_count": 40,
      "outputs": []
    },
    {
      "cell_type": "code",
      "metadata": {
        "colab": {
          "base_uri": "https://localhost:8080/"
        },
        "id": "A5EbNgoZNb6D",
        "outputId": "d2e90286-76ee-450c-e383-18938b500240"
      },
      "source": [
        "print('Before backward pass: \\n', model[0].weight.grad)\n",
        "loss.backward()\n",
        "print('After backward pass: \\n', model[0].weight.grad)"
      ],
      "execution_count": null,
      "outputs": [
        {
          "output_type": "stream",
          "text": [
            "Before backward pass: \n",
            " None\n",
            "After backward pass: \n",
            " tensor([[-0.0020, -0.0020, -0.0020,  ..., -0.0020, -0.0020, -0.0020],\n",
            "        [ 0.0006,  0.0006,  0.0006,  ...,  0.0006,  0.0006,  0.0006],\n",
            "        [ 0.0011,  0.0011,  0.0011,  ...,  0.0011,  0.0011,  0.0011],\n",
            "        ...,\n",
            "        [-0.0028, -0.0028, -0.0028,  ..., -0.0028, -0.0028, -0.0028],\n",
            "        [ 0.0000,  0.0000,  0.0000,  ...,  0.0000,  0.0000,  0.0000],\n",
            "        [-0.0004, -0.0004, -0.0004,  ..., -0.0004, -0.0004, -0.0004]])\n"
          ],
          "name": "stdout"
        }
      ]
    },
    {
      "cell_type": "code",
      "metadata": {
        "id": "EivlTvfpVZ2R"
      },
      "source": [
        "import numpy as np\n",
        "import scipy\n",
        "from scipy import linalg\n",
        "class RONGauss:\n",
        "    \"\"\"RON-Gauss: Synthesizing Data with Differential Privacy\n",
        "    This module implements RON-Gauss, which is a method for non-interactive differentially-private data release based on \n",
        "    random orthornormal (RON) projection and Gaussian generative model. RON-Gauss leverages the Diaconis-Freedman-Meckes (DFM) effect,\n",
        "    which states that most random projections of high-dimensional data approaches Gaussian.\n",
        "    The main method of the `RONGauss` class is `_generate_dpdata()`. It takes in the original data as inputs, and, depending\n",
        "    on the algorithm chosen, returns the differentially private data.\n",
        "    \n",
        "    Parameters\n",
        "    ----------\n",
        "    algorithm : string {'supervised', 'unsupervised', 'gmm'}\n",
        "        supervised : \n",
        "            implements RON-Gauss for supervised learning, especially for regression. This algorithm\n",
        "            requires both the feature data and the target label as inputs. In addition, it requires\n",
        "            `max_y` to be specified.\n",
        "        unsupervised :\n",
        "            implements RON-Gauss for unsupervised learning, so only the feature data are required.\n",
        "            This mode will return `None` for `dp_y`.\n",
        "        gmm :\n",
        "            implements RON-Gauss for classification. This algorithm requires both the feature data\n",
        "            and the target label as inputs. The target label has to be categorical.\n",
        "    epsilon_mean : float (default 1.0)\n",
        "        The privacy budget for computing the mean. The sum of `epsilon_mean` and `epsilon_cov` is the total\n",
        "        privacy budget spent.\n",
        "    epsilon_cov : float (default 1.0)\n",
        "        The privacy budget for computing the covariance. The sum of `epsilon_mean` and `epsilon_cov` is the total\n",
        "        privacy budget spent.\n",
        "    \n",
        "    \n",
        "    Examples\n",
        "    -------\n",
        "    >>> import numpy as np\n",
        "    >>> X = np.random.normal(size=(1000,100))\n",
        "    >>> dim = 10\n",
        "    >>> # try unsupervised\n",
        "    >>> rongauss_unsup = ron_gauss.RONGauss(algorithm='unsupervised')\n",
        "    >>> dp_x, _ = rongauss_unsup.generate_dpdata(X, dim)\n",
        "    >>> # try supervised\n",
        "    >>> y = np.random.uniform(low=0.0, high=1.0, size=1000)\n",
        "    >>> rongauss_sup = ron_gauss.RONGauss(algorithm='supervised')\n",
        "    >>> dp_x, dp_y = rongauss_sup.generate_dpdata(X, dim, y, max_y = 1.0)\n",
        "    >>> # try gmm\n",
        "    >>> y = np.random.choice([0,1], size=1000)\n",
        "    >>> rongauss_gmm = ron_gauss.RONGauss(algorithm='gmm')\n",
        "    >>> dp_x, dp_y = rongauss_gmm.generate_dpdata(X, dim, y)\n",
        "    \"\"\"\n",
        "    \n",
        "    def __init__(self, algorithm=\"supervised\", epsilon_mean=1.0, epsilon_cov=1.0):\n",
        "        self.algorithm = algorithm\n",
        "        self.epsilon_mean = epsilon_mean\n",
        "        self.epsilon_cov = epsilon_cov\n",
        "\n",
        "    def generate_dpdata(\n",
        "        self,\n",
        "        X,\n",
        "        dimension,\n",
        "        y=None,\n",
        "        max_y=None,\n",
        "        n_samples=None,\n",
        "        reconstruct=True,\n",
        "        centering=False,\n",
        "        prng_seed=None,\n",
        "    ):\n",
        "        \"\"\"Generate differentially-private dataset using RON-Gauss\n",
        "        Parameters\n",
        "        ----------\n",
        "        X : numpy.ndarray, shape = [N_samples, M_features]\n",
        "            Feature data.\n",
        "        dimension : int < M_features\n",
        "            The dimension for the data to be reduced to.\n",
        "        y : numpy.ndarray, shape = [n_samples] (default None)\n",
        "            Target values.\n",
        "            unsupervised : this parameter is not used.\n",
        "            supervised : required.\n",
        "            gmm : required and the values should be categorical.\n",
        "        n_samples : int (default None)\n",
        "            The number of samples to be synthesized. If None is passed, the returned number of samples will\n",
        "            be equal to N_samples of X.\n",
        "        max_y : float (default None)\n",
        "            The maximum absolute value that the target label can take. For example, if y is [0,1], then\n",
        "            max_y = 1. If y is [-2,1], then max_y = 2. This is required and used by the supervised\n",
        "            algorithm only.\n",
        "        reconstruct : bool (default True)\n",
        "            An option to reconstrut the projected synthesized data back to the original space. If True, the\n",
        "            returned data will have the same dimension as X. If False, the returned data will have the dimension\n",
        "            specified by the parameter `dimension`.\n",
        "        centering : bool (default False)\n",
        "            An option to automatically center the synthesized data. If False, the mean will be the\n",
        "            differentially-private mean derived from X. This parameter is always False for 'gmm'.\n",
        "        prng_seed : int (default None)\n",
        "            This is to specify the seed used in randomized algorithms used.\n",
        "        \n",
        "        Returns\n",
        "        -------\n",
        "        x_dp : numpy.ndarray, shape = [n_samples, M_features] or [n_samples, dimensions]\n",
        "            The differentially-private feature data. If `reconstruct` is True, this will be [n_samples, M_features].\n",
        "            If `reconstruct` is False, it will be [n_samples, dimensions].\n",
        "        y_dp : numpy.ndarray, shape = [n_samples]\n",
        "            For `unsupervised`, this will be None.\n",
        "            For `supervised` and `gmm`, this will be the differentially private target label.\n",
        "        \"\"\"\n",
        "        (n, m) = X.shape\n",
        "        if n_samples is None:\n",
        "            n_samples = n\n",
        "\n",
        "        if self.algorithm == \"unsupervised\":\n",
        "            x_dp = self._unsupervised_rongauss(X, dimension, n_samples, reconstruct, centering, prng_seed)\n",
        "            y_dp = None\n",
        "\n",
        "        elif self.algorithm == \"supervised\":\n",
        "            x_dp, y_dp = self._supervised_rongauss(X, dimension, y, n_samples, max_y, reconstruct, centering, prng_seed)\n",
        "\n",
        "        elif self.algorithm == \"gmm\":\n",
        "            x_dp, y_dp = self._gmm_rongauss(X,dimension, y, n_samples, reconstruct, prng_seed)\n",
        "        \n",
        "        return (x_dp, y_dp)\n",
        "    \n",
        "    def _unsupervised_rongauss(\n",
        "        self,\n",
        "        X,\n",
        "        dimension,\n",
        "        n_samples,\n",
        "        reconstruct,\n",
        "        centering,\n",
        "        prng_seed,\n",
        "    ):\n",
        "        \"\"\"Generate differentially-private dataset using the unsupervised RON-Gauss\n",
        "        Parameters\n",
        "        ----------\n",
        "        X : numpy.ndarray, shape = [N_samples, M_features]\n",
        "            Feature data.\n",
        "        dimension : int < M_features\n",
        "            The dimension for the data to be reduced to.\n",
        "        n_samples : int (default None)\n",
        "            The number of samples to be synthesized. If None is passed, the returned number of samples will\n",
        "            be equal to N_samples of X.\n",
        "        reconstruct : bool (default True)\n",
        "            An option to reconstrut the projected synthesized data back to the original space. If True, the\n",
        "            returned data will have the same dimension as X. If False, the returned data will have the dimension\n",
        "            specified by the parameter `dimension`.\n",
        "        centering : bool (default False)\n",
        "            An option to automatically center the synthesized data. If False, the mean will be the\n",
        "            differentially-private mean derived from X. This parameter is always False for 'gmm'.\n",
        "        prng_seed : int (default None)\n",
        "            This is to specify the seed used in randomized algorithms used.\n",
        "        \n",
        "        Returns\n",
        "        -------\n",
        "        x_dp : numpy.ndarray, shape = [n_samples, M_features] or [n_samples, dimensions]\n",
        "            The differentially-private feature data. If `reconstruct` is True, this will be [n_samples, M_features].\n",
        "            If `reconstruct` is False, it will be [n_samples, dimensions].\n",
        "        \"\"\"\n",
        "        prng = np.random.RandomState(prng_seed)\n",
        "        (x_bar, mu_dp) = self._data_preprocessing(X, self.epsilon_mean, prng)\n",
        "        (x_tilda, proj_matrix) = self._apply_ron_projection(x_bar, dimension, prng)\n",
        "        (n, p) = x_tilda.shape\n",
        "        noise_var = (2.0 * np.sqrt(p)) / (n * self.epsilon_cov)\n",
        "        cov_matrix = np.inner(x_tilda.T, x_tilda.T) / n\n",
        "        laplace_noise = prng.laplace(scale=noise_var, size=(p, p))\n",
        "        cov_dp = cov_matrix + laplace_noise\n",
        "        synth_data = prng.multivariate_normal(np.zeros(p), cov_dp, n_samples)\n",
        "        x_dp = synth_data\n",
        "        if reconstruct:\n",
        "            x_dp = self._reconstruction(x_dp, proj_matrix)\n",
        "        else:\n",
        "            #project the mean down to the lower dimention\n",
        "            mu_dp = np.inner(mu_dp, proj_matrix)\n",
        "        self._mu_dp = mu_dp\n",
        "\n",
        "        if not centering:\n",
        "            x_dp = x_dp + mu_dp\n",
        "        return x_dp\n",
        "\n",
        "    def _supervised_rongauss(\n",
        "        self,\n",
        "        X,\n",
        "        dimension,\n",
        "        y,\n",
        "        n_samples,\n",
        "        max_y,\n",
        "        reconstruct,\n",
        "        centering,\n",
        "        prng_seed,\n",
        "    ):  \n",
        "        \"\"\"Generate differentially-private dataset using the supervised RON-Gauss\n",
        "        Parameters\n",
        "        ----------\n",
        "        X : numpy.ndarray, shape = [N_samples, M_features]\n",
        "            Feature data.\n",
        "        dimension : int < M_features\n",
        "            The dimension for the data to be reduced to.\n",
        "        y : numpy.ndarray, shape = [n_samples] (default None)\n",
        "            Target values.\n",
        "        n_samples : int (default None)\n",
        "            The number of samples to be synthesized. If None is passed, the returned number of samples will\n",
        "            be equal to N_samples of X.\n",
        "        max_y : float\n",
        "            The maximum absolute value that the target label can take. For example, if y is [0,1], then\n",
        "            max_y = 1. If y is [-2,1], then max_y = 2.\n",
        "        reconstruct : bool (default True)\n",
        "            An option to reconstrut the projected synthesized data back to the original space. If True, the\n",
        "            returned data will have the same dimension as X. If False, the returned data will have the dimension\n",
        "            specified by the parameter `dimension`.\n",
        "        centering : bool (default False)\n",
        "            An option to automatically center the synthesized data. If False, the mean will be the\n",
        "            differentially-private mean derived from X. This parameter is always False for 'gmm'.\n",
        "        prng_seed : int (default None)\n",
        "            This is to specify the seed used in randomized algorithms used.\n",
        "        \n",
        "        Returns\n",
        "        -------\n",
        "        x_dp : numpy.ndarray, shape = [n_samples, M_features] or [n_samples, dimensions]\n",
        "            Differentially-private feature data. If `reconstruct` is True, this will be [n_samples, M_features].\n",
        "            If `reconstruct` is False, it will be [n_samples, dimensions].\n",
        "        y_dp : numpy.ndarray, shape = [n_samples]\n",
        "            Differentially private target label.\n",
        "        \"\"\"\n",
        "\n",
        "        prng = np.random.RandomState(prng_seed)\n",
        "        (x_bar, mu_dp) = self._data_preprocessing(X, self.epsilon_mean, prng)\n",
        "        (x_tilda, proj_matrix) = self._apply_ron_projection(x_bar, dimension, prng)\n",
        "\n",
        "        (n, p) = x_tilda.shape\n",
        "        noise_var = (2.0 * np.sqrt(p) + 4.0 * np.sqrt(p) * max_y + max_y ** 2) / (\n",
        "            n * self.epsilon_cov\n",
        "        )\n",
        "        y_reshaped = y.reshape(len(y), 1)\n",
        "        augmented_mat = np.hstack((x_tilda, y_reshaped))\n",
        "        cov_matrix = np.inner(augmented_mat.T, augmented_mat.T) / n\n",
        "        laplace_noise = prng.laplace(scale=noise_var, size=cov_matrix.shape)\n",
        "        cov_dp = cov_matrix + laplace_noise\n",
        "\n",
        "        synth_data = prng.multivariate_normal(np.zeros(p + 1), cov_dp, n_samples)\n",
        "        x_dp = synth_data[:, 0:-1]\n",
        "        y_dp = synth_data[:, -1]\n",
        "        if reconstruct:\n",
        "            x_dp = self._reconstruction(x_dp, proj_matrix)\n",
        "        else:\n",
        "            #project the mean down to the lower dimention\n",
        "            mu_dp = np.inner(mu_dp, proj_matrix)\n",
        "        self._mu_dp = mu_dp\n",
        "\n",
        "        if not centering:\n",
        "            x_dp = x_dp + mu_dp\n",
        "        \n",
        "        return (x_dp, y_dp)\n",
        "\n",
        "    def _gmm_rongauss(\n",
        "        self,\n",
        "        X,\n",
        "        dimension,\n",
        "        y,\n",
        "        n_samples,\n",
        "        reconstruct,\n",
        "        prng_seed,\n",
        "    ):\n",
        "        \"\"\"Generate differentially-private dataset using the GMM RON-Gauss\n",
        "        Parameters\n",
        "        ----------\n",
        "        X : numpy.ndarray, shape = [N_samples, M_features]\n",
        "            Feature data.\n",
        "        dimension : int < M_features\n",
        "            The dimension for the data to be reduced to.\n",
        "        y : numpy.ndarray, shape = [n_samples] (default None)\n",
        "            Target values, which hould be categorical.\n",
        "        n_samples : int (default None)\n",
        "            The number of samples to be synthesized. If None is passed, the returned number of samples will\n",
        "            be equal to N_samples of X.\n",
        "        reconstruct : bool (default True)\n",
        "            An option to reconstrut the projected synthesized data back to the original space. If True, the\n",
        "            returned data will have the same dimension as X. If False, the returned data will have the dimension\n",
        "            specified by the parameter `dimension`.\n",
        "        centering : bool (default False)\n",
        "            An option to automatically center the synthesized data. If False, the mean will be the\n",
        "            differentially-private mean derived from X. This parameter is always False for 'gmm'.\n",
        "        prng_seed : int (default None)\n",
        "            This is to specify the seed used in randomized algorithms used.\n",
        "        \n",
        "        Returns\n",
        "        -------\n",
        "        x_dp : numpy.ndarray, shape = [n_samples, M_features] or [n_samples, dimensions]\n",
        "            Differentially-private feature data. If `reconstruct` is True, this will be [n_samples, M_features].\n",
        "            If `reconstruct` is False, it will be [n_samples, dimensions].\n",
        "        y_dp : numpy.ndarray, shape = [n_samples]\n",
        "            Differentially private target label.\n",
        "        \"\"\"\n",
        "        prng = np.random.RandomState(prng_seed)\n",
        "        syn_x = None\n",
        "        syn_y = np.array([])\n",
        "        for label in np.unique(y):\n",
        "            idx = np.where(y == label)\n",
        "            x_class = X[idx]\n",
        "            (x_bar, mu_dp) = self._data_preprocessing(x_class, self.epsilon_mean, prng)\n",
        "            (x_tilda, proj_matrix) = self._apply_ron_projection(x_bar, dimension, prng)\n",
        "\n",
        "            (n, p) = x_tilda.shape\n",
        "            noise_var = (2.0 * np.sqrt(p)) / (n * self.epsilon_cov)\n",
        "            mu_dp_tilda = np.inner(mu_dp, proj_matrix)\n",
        "            cov_matrix = np.inner(x_tilda.T, x_tilda.T) / n\n",
        "            laplace_noise = prng.laplace(scale=noise_var, size=(p, p))\n",
        "            cov_dp = cov_matrix + laplace_noise\n",
        "            synth_data = prng.multivariate_normal(mu_dp_tilda, cov_dp, n_samples)\n",
        "\n",
        "            if reconstruct:\n",
        "                synth_data = self._reconstruction(synth_data, proj_matrix)\n",
        "            if syn_x is None:\n",
        "                syn_x = synth_data\n",
        "            else:\n",
        "                syn_x = np.vstack((syn_x, synth_data))\n",
        "                \n",
        "            syn_y = np.append(syn_y, label * np.ones(n_samples))\n",
        "        return syn_x, syn_y\n",
        "\n",
        "    @staticmethod\n",
        "    def _data_preprocessing(X, epsilon_mean, prng=None):\n",
        "        \"\"\"\n",
        "        This is the DATA_PREPROCESSING algorithm based on Algo. 1 in the paper.\n",
        "        Parameters\n",
        "        ----------\n",
        "        X : numpy.ndarray, shape = [N_samples, M_features]\n",
        "            Feature data.\n",
        "        epsilon_mean : float\n",
        "            The privacy budget used for computing the mean.\n",
        "        prng_seed : int (default None)\n",
        "            This is to specify the seed used in randomized algorithms used.\n",
        "        \n",
        "        Returns\n",
        "        -------\n",
        "        x_bar : numpy.ndarray, shape = [N_samples, M_features]\n",
        "            The pre-processed data which are pre-normalized, centered, and re-normalized.\n",
        "        mean_dp : numpy.ndarray, shape = [M_features]\n",
        "            The differentially-private mean used in the centering.\n",
        "        \"\"\"\n",
        "        if prng is None:\n",
        "            prng = np.random.RandomState()\n",
        "        (n, m) = X.shape\n",
        "        # pre-normalize\n",
        "        x_norm = RONGauss._normalize_sample_wise(X)\n",
        "        # derive dp-mean\n",
        "        mu = np.mean(x_norm, axis=0)\n",
        "        noise_var_mu = np.sqrt(m) / (n * epsilon_mean)\n",
        "        laplace_noise = prng.laplace(scale=noise_var_mu, size=m)\n",
        "        mean_dp = mu + laplace_noise\n",
        "        # centering\n",
        "        x_bar = x_norm - mean_dp\n",
        "        # re-normalize\n",
        "        x_bar = RONGauss._normalize_sample_wise(x_bar)\n",
        "        return x_bar, mean_dp\n",
        "\n",
        "    def _apply_ron_projection(self, x_bar, dimension, prng=None):\n",
        "        \"\"\"\n",
        "        This is the RON_PROJECTION algorithm based on Algo. 2 in the paper.\n",
        "        Parameters\n",
        "        ----------\n",
        "        x_bar : numpy.ndarray, shape = [N_samples, M_features]\n",
        "            Feature data.\n",
        "        dimension : int < M_features\n",
        "            The dimension for the data to be reduced to.\n",
        "        prng_seed : int (default None)\n",
        "            This is to specify the seed used in randomized algorithms used.\n",
        "        \n",
        "        Returns\n",
        "        -------\n",
        "        x_tilda : numpy.ndarray, shape = [N_samples, dimension]\n",
        "            The dimension-reduced data.\n",
        "        ron_matrix : numpy.ndarray, shape = [dimension, M_features]\n",
        "            The RON projection matrix used for dimensionality reduction.\n",
        "        \"\"\"\n",
        "        (n, m) = x_bar.shape\n",
        "        full_projection_matrix = self._generate_ron_matrix(m, prng)\n",
        "        ron_matrix = full_projection_matrix[0:dimension]  # take the rows\n",
        "        x_tilda = np.inner(x_bar, ron_matrix)\n",
        "        return x_tilda, ron_matrix\n",
        "\n",
        "    def _reconstruction(self, x_projected, ron_matrix):\n",
        "        \"\"\"\n",
        "        The function used to project the dimension-reduced data back to the original space.\n",
        "        Parameters\n",
        "        ----------\n",
        "        x_projected : numpy.ndarray, shape = [N_samples, P_dimension]\n",
        "            The dimension-reduced data.\n",
        "        ron_matrix : numpy.ndarray, shpae = [P_dimension, M_features]\n",
        "            The RON projection matrix used to produce the dimension-reduced data.\n",
        "        \n",
        "        Returns\n",
        "        -------\n",
        "        x_reconstructed : numpy.ndarray, shape = [N_samples, M_features]\n",
        "            The reconstructed data.\n",
        "        \"\"\"\n",
        "        x_reconstructed = np.inner(x_projected, ron_matrix.T)\n",
        "        return x_reconstructed\n",
        "\n",
        "    def _generate_ron_matrix(self, m, prng=None):\n",
        "        \"\"\"\n",
        "        Generate a RON projection matrix using QR factorization.\n",
        "        Parameters\n",
        "        ----------\n",
        "        m : int\n",
        "            The dimension of the projection matrix.\n",
        "        prng_seed : int (default None)\n",
        "            This is to specify the seed used in randomized algorithms used.\n",
        "        \n",
        "        Returns\n",
        "        -------\n",
        "        ron_matrix : numpy.ndarray, shape = [m, m]\n",
        "            The RON projection matrix.\n",
        "        \"\"\"\n",
        "        if prng is None:\n",
        "            prng = np.random.RandomState()\n",
        "        # generate random matrix\n",
        "        random_matrix = prng.uniform(size=(m, m))\n",
        "        # QR factorization\n",
        "        q_matrix, r_matrix = scipy.linalg.qr(random_matrix) #numpy.linalg.qr(random_matrix, mode='complete')\n",
        "        ron_matrix = q_matrix\n",
        "        return ron_matrix\n",
        "        \n",
        "    @staticmethod\n",
        "    def _normalize_sample_wise(x):\n",
        "        \"\"\"\n",
        "        Sample-wise normalization\n",
        "        Parameters\n",
        "        ----------\n",
        "        x : numpy.ndarray, shape = [N_samples, M_features]\n",
        "            Feature data.\n",
        "        \n",
        "        Returns\n",
        "        -------\n",
        "        x_normalized : numpy.ndarray, shape = [N_samples, M_features]\n",
        "            The sample-wise normalized data\n",
        "        \"\"\"\n",
        "        (n,p) = x.shape\n",
        "        sample_norms = np.linalg.norm(x, axis=1) #norms of each sample\n",
        "        x_normalized = x/(np.outer(sample_norms,np.ones(p)))\n",
        "        return x_normalized"
      ],
      "execution_count": null,
      "outputs": []
    },
    {
      "cell_type": "code",
      "metadata": {
        "colab": {
          "base_uri": "https://localhost:8080/"
        },
        "id": "Wu7LS-i3PFM0",
        "outputId": "78b66c9a-7e72-4bdd-c476-adef58cf0be6"
      },
      "source": [
        "optimizer = [optim.Adam(model.parameters(), lr=0.01) for model in models]\n",
        "server_optimizer = optim.Adam(server_model.parameters(), lr=0.01)\n",
        "server_loss = nn.CrossEntropyLoss()\n",
        "time0 = time()\n",
        "epochs = 15\n",
        "for e in range(epochs):\n",
        "    running_loss = 0\n",
        "    for i in range(4):\n",
        "        for opt in optimizers:\n",
        "            opt.zero_grad()\n",
        "        server_optimizer.zero_grad()\n",
        "        lst_of_vars = []\n",
        "        for images, labels in data_loaders[i]:\n",
        "            # Flatten MNIST images into a 784 long vector\n",
        "            images = images.view(images.shape[0], -1)\n",
        "        \n",
        "            split_output = models[i](images)\n",
        "            split_layer_output = split_output.clone().detach().requires_grad_(True)\n",
        "            server_output = server_model(split_layer_output)\n",
        "            loss = server_loss(server_output, labels)\n",
        "            lst_of_vars.append({'split_output': split_output, 'split_layer_output': split_layer_output, 'loss':loss})\n",
        "        loss = 0 \n",
        "        for j in range(4):\n",
        "            loss+=lst_of_vars[j]['loss']\n",
        "        avg_loss = loss/ len(data_loaders)\n",
        "        running_loss+=avg_loss\n",
        "        avg_loss.backward()\n",
        "        for l in range(4):\n",
        "            split_gradients = lst_of_vars[l]['split_layer_output'].grad.clone().detach()\n",
        "            lst_of_vars[l]['split_output'].backward(split_gradients)\n",
        "        server_optimizer.step()\n",
        "\n",
        "        for opt in optimizers:\n",
        "            opt.step()\n",
        "            #This is where the model learns by backpropagating\n",
        "            \n",
        "    print(\"Epoch {} - Training loss: {}\".format(e, running_loss/len(data_loaders[0])))\n"
      ],
      "execution_count": 42,
      "outputs": [
        {
          "output_type": "stream",
          "text": [
            "Epoch 0 - Training loss: 0.03882794454693794\n",
            "Epoch 1 - Training loss: 0.038341768085956573\n",
            "Epoch 2 - Training loss: 0.03766841068863869\n",
            "Epoch 3 - Training loss: 0.037257079035043716\n",
            "Epoch 4 - Training loss: 0.03649219870567322\n",
            "Epoch 5 - Training loss: 0.036216504871845245\n",
            "Epoch 6 - Training loss: 0.03554282337427139\n",
            "Epoch 7 - Training loss: 0.03519881144165993\n",
            "Epoch 8 - Training loss: 0.03468383476138115\n",
            "Epoch 9 - Training loss: 0.03434985876083374\n",
            "Epoch 10 - Training loss: 0.03394608572125435\n",
            "Epoch 11 - Training loss: 0.033395759761333466\n",
            "Epoch 12 - Training loss: 0.033109039068222046\n",
            "Epoch 13 - Training loss: 0.03237692266702652\n",
            "Epoch 14 - Training loss: 0.03238929808139801\n"
          ],
          "name": "stdout"
        }
      ]
    },
    {
      "cell_type": "code",
      "metadata": {
        "id": "OGBt-bRri6u4"
      },
      "source": [
        ""
      ],
      "execution_count": null,
      "outputs": []
    },
    {
      "cell_type": "code",
      "metadata": {
        "id": "reDIcSATQTrA"
      },
      "source": [
        "def view_classify(img, ps):\n",
        "    ''' Function for viewing an image and it's predicted classes.\n",
        "    '''\n",
        "    ps = ps.data.numpy().squeeze()\n",
        "\n",
        "    fig, (ax1, ax2) = plt.subplots(figsize=(6,9), ncols=2)\n",
        "    ax1.imshow(img.resize_(1, 28, 28).numpy().squeeze())\n",
        "    ax1.axis('off')\n",
        "    ax2.barh(np.arange(10), ps)\n",
        "    ax2.set_aspect(0.1)\n",
        "    ax2.set_yticks(np.arange(10))\n",
        "    ax2.set_yticklabels(np.arange(10))\n",
        "    ax2.set_title('Class Probability')\n",
        "    ax2.set_xlim(0, 1.1)\n",
        "    plt.tight_layout()"
      ],
      "execution_count": null,
      "outputs": []
    },
    {
      "cell_type": "code",
      "metadata": {
        "colab": {
          "base_uri": "https://localhost:8080/",
          "height": 270
        },
        "id": "7WWHTaO-P7F1",
        "outputId": "d21c69b7-0b1e-4e33-d1bb-537b5487495d"
      },
      "source": [
        "images, labels = next(iter(valloader))\n",
        "\n",
        "img = images[0].view(1, 784)\n",
        "with torch.no_grad():\n",
        "    logps = model(img)\n",
        "\n",
        "ps = torch.exp(logps)\n",
        "probab = list(ps.numpy()[0])\n",
        "print(\"Predicted Digit =\", probab.index(max(probab)))\n",
        "view_classify(img.view(1, 28, 28), ps)"
      ],
      "execution_count": null,
      "outputs": [
        {
          "output_type": "stream",
          "text": [
            "Predicted Digit = 8\n"
          ],
          "name": "stdout"
        },
        {
          "output_type": "display_data",
          "data": {
            "image/png": "[encoded data removed]",
            "text/plain": [
              "<Figure size 432x648 with 2 Axes>"
            ]
          },
          "metadata": {
            "tags": [],
            "needs_background": "light"
          }
        }
      ]
    },
    {
      "cell_type": "code",
      "metadata": {
        "colab": {
          "base_uri": "https://localhost:8080/"
        },
        "id": "KFCiRd-BSYTr",
        "outputId": "ccdf2d6b-97f9-432d-ea0d-73b2eb4544f5"
      },
      "source": [
        "correct_count, all_count = 0, 0\n",
        "for images,labels in valloader:\n",
        "  for i in range(len(labels)):\n",
        "    img = images[i].view(1, 784)\n",
        "    # Turn off gradients to speed up this part\n",
        "    with torch.no_grad():\n",
        "        logps = model(img)\n",
        "\n",
        "    # Output of the network are log-probabilities, need to take exponential for probabilities\n",
        "    ps = torch.exp(logps)\n",
        "    probab = list(ps.numpy()[0])\n",
        "    pred_label = probab.index(max(probab))\n",
        "    true_label = labels.numpy()[i]\n",
        "    if(true_label == pred_label):\n",
        "      correct_count += 1\n",
        "    all_count += 1\n",
        "\n",
        "print(\"Number Of Images Tested =\", all_count)\n",
        "print(\"\\nModel Accuracy =\", (correct_count/all_count))\n"
      ],
      "execution_count": null,
      "outputs": [
        {
          "output_type": "stream",
          "text": [
            "Number Of Images Tested = 10000\n",
            "\n",
            "Model Accuracy = 0.0876\n"
          ],
          "name": "stdout"
        }
      ]
    }
  ]
}